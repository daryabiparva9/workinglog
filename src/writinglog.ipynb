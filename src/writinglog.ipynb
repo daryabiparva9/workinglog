{
 "cells": [
  {
   "cell_type": "code",
   "execution_count": 1,
   "metadata": {},
   "outputs": [],
   "source": [
    "start_time = '10:46'"
   ]
  },
  {
   "cell_type": "code",
   "execution_count": 4,
   "metadata": {},
   "outputs": [],
   "source": [
    "output = start_time + ' --> \\n'\n",
    "minute = int(start_time[-2:])\n",
    "hour = int(start_time[:2])\n",
    "for i in range(6):\n",
    "    new_min = minute + 8\n",
    "    if new_min < 60:\n",
    "        output += f'{hour}:{new_min} --> \\n'\n",
    "    else:\n",
    "        hour += 1\n",
    "        new_min = new_min - 60\n",
    "        output += f'{hour}:{new_min} --> \\n'\n",
    "    minute = new_min\n",
    "    "
   ]
  },
  {
   "cell_type": "code",
   "execution_count": 5,
   "metadata": {},
   "outputs": [
    {
     "data": {
      "text/plain": [
       "'10:46 --> \\n10:54 --> \\n11:2 --> \\n11:10 --> \\n11:18 --> \\n11:26 --> \\n11:34 --> \\n'"
      ]
     },
     "execution_count": 5,
     "metadata": {},
     "output_type": "execute_result"
    }
   ],
   "source": [
    "output"
   ]
  },
  {
   "cell_type": "code",
   "execution_count": 6,
   "metadata": {},
   "outputs": [],
   "source": [
    "with open('../data/logs.txt', 'w') as f:\n",
    "    f.write(output)"
   ]
  },
  {
   "cell_type": "code",
   "execution_count": null,
   "metadata": {},
   "outputs": [],
   "source": []
  }
 ],
 "metadata": {
  "kernelspec": {
   "display_name": "tele_statistics",
   "language": "python",
   "name": "python3"
  },
  "language_info": {
   "codemirror_mode": {
    "name": "ipython",
    "version": 3
   },
   "file_extension": ".py",
   "mimetype": "text/x-python",
   "name": "python",
   "nbconvert_exporter": "python",
   "pygments_lexer": "ipython3",
   "version": "3.8.16"
  },
  "orig_nbformat": 4,
  "vscode": {
   "interpreter": {
    "hash": "84a6233198c34f03b3c386cf553600c9fdf7deb3e657306515660cd49e365240"
   }
  }
 },
 "nbformat": 4,
 "nbformat_minor": 2
}
